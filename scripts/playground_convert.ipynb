{
 "cells": [
  {
   "cell_type": "code",
   "execution_count": 37,
   "metadata": {},
   "outputs": [
    {
     "name": "stdout",
     "output_type": "stream",
     "text": [
      "Forked the chain on block 20420069\n",
      "Prices: BTC: 66057.12, ETH: 3308.77, CRV: 0.278\n"
     ]
    }
   ],
   "source": [
    "import boa\n",
    "import sys, os\n",
    "from eth_utils import to_checksum_address\n",
    "parent_dir = os.path.abspath('..')\n",
    "sys.path.insert(0, parent_dir)\n",
    "from tests.utils.util_tokens import mint_for_testing, get_token_balance\n",
    "from tests.utils.util_contracts import load_contract\n",
    "\n",
    "\n",
    "from dotenv import load_dotenv\n",
    "dotenv_path = os.path.expanduser('~/.web3env') # Path to .env file containing rpcs and keys\n",
    "load_dotenv(dotenv_path)\n",
    "\n",
    "rpc_url = os.getenv(\"ETH_RPC_URL\")\n",
    "assert rpc_url is not None, \"Provider url is not set\"\n",
    "boa.env.fork(url=rpc_url, block_identifier=20420069)\n",
    "boa.env.enable_fast_mode()\n",
    "\n",
    "addresses_dict = {\n",
    "    \"USDT\":     '0xdAC17F958D2ee523a2206206994597C13D831ec7',\n",
    "    \"USDC\":     '0xa0b86991c6218b36c1d19d4a2e9eb0ce3606eb48',\n",
    "    # \"DAI\":      '0x6b175474e89094c44da98b954eedeac495271d0f', #curve doesn't like DAI it seems\n",
    "    \"WBTC\":     '0x2260fac5e5542a773aa44fbcfedf7c193bc2c599',\n",
    "    \"WETH\":     '0xc02aaa39b223fe8d0a0e5c4f27ead9083c756cc2',\n",
    "    \"CRV\":      '0xD533a949740bb3306d119CC777fa900bA034cd52',\n",
    "    \"crvUSD\":   '0xf939E0A03FB07F59A73314E73794Be0E57ac1b4E'\n",
    "}\n",
    "# Convert addresses to checksum format\n",
    "for key in addresses_dict.keys():\n",
    "    addresses_dict[key] = to_checksum_address(addresses_dict[key])\n",
    "# Fetch contract data from Etherscan and create the contracts dictionary\n",
    "# contracts = {key: boa.from_etherscan(address, uri=\"https://api.etherscan.io/api\", name=key, api_key=os.environ.get(\"ETHERSCAN_API_KEY_CS\")) for key, address in addresses_dict.items()}\n",
    "token_contracts = {key: load_contract(address, name=key, path_prefix='../') for key, address in addresses_dict.items()}\n",
    "\n",
    "print(f'Forked the chain on block {boa.env.evm.vm.state.block_number}')\n",
    "boa.env.set_random_seed(420)\n",
    "deployer = boa.env.generate_address()\n",
    "with boa.env.prank(deployer):\n",
    "    curve_assistant_contract = boa.load_partial(\"../contracts/CurveAssistant.vy\").deploy()\n",
    "\n",
    "# load prices for value estimation\n",
    "BTC_PRICE = load_contract('0x7f86bf177dd4f3494b841a37e810a34dd56c829b', name=key, path_prefix='../').last_prices(0)/1e18\n",
    "ETH_PRICE = load_contract('0x7f86bf177dd4f3494b841a37e810a34dd56c829b', name=key, path_prefix='../').last_prices(1)/1e18\n",
    "CRV_PRICE = load_contract('0x4ebdf703948ddcea3b11f675b4d1fba9d2414a14', name=key, path_prefix='../').last_prices(1)/1e18\n",
    "print(f'Prices: BTC: {BTC_PRICE:.2f}, ETH: {ETH_PRICE:.2f}, CRV: {CRV_PRICE:.3f}')\n"
   ]
  },
  {
   "cell_type": "code",
   "execution_count": 38,
   "metadata": {},
   "outputs": [
    {
     "name": "stdout",
     "output_type": "stream",
     "text": [
      "Tether USD balance: 10000.0\n",
      "USD Coin balance: 10000.0\n",
      "Wrapped BTC balance: 1.0\n",
      "Wrapped Ether balance: 10.0\n",
      "Curve DAO Token balance: 10000.0\n",
      "Curve.Fi USD Stablecoin balance: 10000.0\n",
      "Tokens minted to deployer and approved for CurveAssistant contract\n"
     ]
    }
   ],
   "source": [
    "pools_list = ['0x7f86bf177dd4f3494b841a37e810a34dd56c829b', # tricrypto-ng USDC/WBTC/WETH\n",
    "                '0xd51a44d3fae010294c616388b506acda1bfaae46', # Curve.fi: USDT/WBTC/WETH Pool (old)\n",
    "                '0xf5f5b97624542d72a9e06f04804bf81baa15e2b4', # tricrypto-ng USDT/WBTC/WETH\n",
    "                '0x4ebdf703948ddcea3b11f675b4d1fba9d2414a14', # tricrv (crvUSD/WETH/CRV)\n",
    "                ] \n",
    "coins_list = []\n",
    "coins_amounts = []\n",
    "\n",
    "AMT_USD = 1 * 10 ** 4\n",
    "AMT_ETH = 10 ** 1\n",
    "AMT_BTC = 10 ** 0\n",
    "AMT_OTHER = 10 ** 4\n",
    "\n",
    "for key in token_contracts:\n",
    "    contract = token_contracts[key]\n",
    "    with boa.env.prank(deployer):\n",
    "        coins_list.append(contract.address)\n",
    "        AMT_TO_MINT = 0\n",
    "        if 'usd' in key.lower():\n",
    "            AMT_TO_MINT = AMT_USD * 10 ** token_contracts[key].decimals()\n",
    "        elif 'eth' in key.lower():\n",
    "            AMT_TO_MINT = AMT_ETH * 10 ** token_contracts[key].decimals()\n",
    "        elif 'btc' in key.lower():\n",
    "            AMT_TO_MINT = AMT_BTC * 10 ** token_contracts[key].decimals()\n",
    "        else:\n",
    "            AMT_TO_MINT = AMT_OTHER * 10 ** token_contracts[key].decimals()\n",
    "        mint_for_testing(contract, deployer, AMT_TO_MINT, path_prefix='../')\n",
    "        coins_amounts.append(contract.balanceOf(deployer) // 2)\n",
    "        print(f'{contract.name()} balance: {contract.balanceOf(deployer)/10 ** contract.decimals()}')\n",
    "        tx = contract.approve(curve_assistant_contract.address, 0, sender = deployer)\n",
    "        tx = contract.approve(curve_assistant_contract.address, contract.balanceOf(deployer), sender = deployer)\n",
    "        # print(f'{contract.name()} allowance: {contract.allowance(deployer, curve_assistant_contract.address)/10 ** contract.decimals()}')\n",
    "print('Tokens minted to deployer and approved for CurveAssistant contract')"
   ]
  },
  {
   "cell_type": "code",
   "execution_count": 39,
   "metadata": {},
   "outputs": [
    {
     "name": "stdout",
     "output_type": "stream",
     "text": [
      "Balance of Tether USD (0xdAC17F958D2ee523a2206206994597C13D831ec7): 10000.0 (10000.00 USD)\n",
      "Balance of USD Coin (0xA0b86991c6218b36c1d19D4a2e9Eb0cE3606eB48): 10000.0 (10000.00 USD)\n",
      "Balance of Wrapped BTC (0x2260FAC5E5542a773Aa44fBCfeDf7C193bc2C599): 1.0 (66057.12 USD)\n",
      "Balance of Wrapped Ether (0xC02aaA39b223FE8D0A0e5C4F27eAD9083C756Cc2): 10.0 (33087.69 USD)\n",
      "Balance of Curve DAO Token (0xD533a949740bb3306d119CC777fa900bA034cd52): 10000.0 (2783.18 USD)\n",
      "Balance of Curve.Fi USD Stablecoin (0xf939E0A03FB07F59A73314E73794Be0E57ac1b4E): 10000.0 (10000.00 USD)\n",
      "Initial value: 131927.99 USD\n",
      "commit_value: 110226420891\n",
      "returned value: 120932956836\n",
      "Swapping [Address('0xA0b86991c6218b36c1d19D4a2e9Eb0cE3606eB48'), Address('0x2260FAC5E5542a773Aa44fBCfeDf7C193bc2C599'), Address('0xC02aaA39b223FE8D0A0e5C4F27eAD9083C756Cc2'), Address('0xD533a949740bb3306d119CC777fa900bA034cd52'), Address('0xf939E0A03FB07F59A73314E73794Be0E57ac1b4E')] to 0xdAC17F958D2ee523a2206206994597C13D831ec7\n",
      "Balance of Tether USD after conversion: 130932.96\n"
     ]
    }
   ],
   "source": [
    "target_coin = addresses_dict['USDT']\n",
    "target_coin = to_checksum_address(target_coin)\n",
    "coins_amounts = []\n",
    "convert_list = []\n",
    "value_init = 0\n",
    "target_coin_contract = load_contract(target_coin, path_prefix='../')\n",
    "for coin in coins_list: \n",
    "    coin_contract = load_contract(coin, path_prefix='../')\n",
    "    balance = coin_contract.balanceOf(deployer)\n",
    "    contract_name = coin_contract.name()\n",
    "    tmp_value = 0   \n",
    "    if 'usd' in contract_name.lower():\n",
    "        tmp_value = (balance / 10 ** coin_contract.decimals())\n",
    "    elif 'eth' in contract_name.lower():\n",
    "        tmp_value = ETH_PRICE * (balance / 10 ** coin_contract.decimals())\n",
    "    elif 'btc' in contract_name.lower():\n",
    "        #value_prev += 60500 * (balance / 10 ** coin_contract.decimals())\n",
    "        tmp_value = BTC_PRICE * (balance / 10 ** coin_contract.decimals())\n",
    "    elif 'curve' in contract_name.lower():\n",
    "        #value_prev += 0.25 * (balance / 10 ** coin_contract.decimals())\n",
    "        tmp_value = CRV_PRICE * (balance / 10 ** coin_contract.decimals())\n",
    "    value_init += tmp_value\n",
    "    print(f'Balance of {contract_name} ({coin_contract.address}):', balance/10**coin_contract.decimals() , f'({tmp_value:.2f} USD)')\n",
    "\n",
    "    if balance > 0 and coin != target_coin:\n",
    "        convert_list.append(coin)\n",
    "        coins_amounts.append(balance)\n",
    "        with boa.env.prank(deployer):\n",
    "            coin_contract.approve(curve_assistant_contract.address, 0, sender = deployer)\n",
    "            coin_contract.approve(curve_assistant_contract.address, balance, sender = deployer)\n",
    "print(f'Initial value: {value_init:.2f} USD')\n",
    "with boa.env.prank(deployer):\n",
    "    # contract_value = curve_assistant_contract.estimate_usd_value_of_coins(convert_list, coins_amounts, pools_list, sender=deployer)\n",
    "    commit_value = curve_assistant_contract.commit_slippage_protection(convert_list, coins_amounts, pools_list, target_coin, 10_0, sender=deployer)\n",
    "    print(f'commit_value: {commit_value}')\n",
    "    res_convert = curve_assistant_contract.convert_to_one(convert_list, coins_amounts, pools_list, target_coin, 1, sender=deployer)\n",
    "    print(f'received tokens: {res_convert}')\n",
    "\n",
    "print(f'Swapping {convert_list} to {target_coin}')\n",
    "print(f'Balance of {target_coin_contract.name()} after conversion:', f'{get_token_balance(target_coin, deployer)/10**target_coin_contract.decimals():.2f}')\n"
   ]
  },
  {
   "cell_type": "code",
   "execution_count": 40,
   "metadata": {},
   "outputs": [],
   "source": [
    "# iterations benchmark for all -> usdt (10k stables each, 10e, 1btc, 10k crv balances initially)\n",
    "# 1 iter: 131927.99 -> 130932.96 (-0.754%)\n",
    "# 2 iter: 131927.99 -> 131011.57 (-0.694%)\n",
    "# 3 iter: 131927.99 -> 131029.44 (-0.681%)\n",
    "# 5 iter: 131927.99 -> 131063.44 (-0.656%)\n",
    "# 7 iter: 131927.99 -> 131066.22 (-0.654%)\n",
    "# 9 iter: 131927.99 -> 131074.00 (-0.648%)\n",
    "\n",
    "# iterations benchmark for all -> usdt (100k stables each, 100e, 10btc, 100k crv balances initially)\n",
    "# 1 iter: 1319279.91 -> 1243184.22 (-5.764%)\n",
    "# 2 iter: 1319279.91 -> 1248796.39 (-5.347%)\n",
    "# 3 iter: 1319279.91 -> 1248982.88 (-5.325%)\n",
    "# 5 iter: 1319279.91 -> 1249971.26 (-5.261%)\n",
    "# 7 iter: 1319279.91 -> 1250552.76 (-5.218%)\n",
    "# 9 iter: 1319279.91 -> 1250991.21 (-5.177%)\n",
    "\n",
    "# now try to do stables -> crvUSD (50k stables each, 0e, 0btc, 0crv balances initially)\n",
    "# 1 iter: 100000.00 -> 97252.08 (-2.748%)\n",
    "# 9 iter: 100000.00 -> 97494.09 (-2.506%)\n",
    "\n",
    "# large bag stables -> crvUSD (500k stables each, 0e, 0btc, 0crv balances initially)\n",
    "# 1 iter: 1000000.00 -> 835310.45 (-16.469%)\n",
    "# 9 iter: 1000000.00 -> 841730.84 (-15.827%)"
   ]
  },
  {
   "cell_type": "code",
   "execution_count": null,
   "metadata": {},
   "outputs": [],
   "source": []
  }
 ],
 "metadata": {
  "kernelspec": {
   "display_name": "work",
   "language": "python",
   "name": "python3"
  },
  "language_info": {
   "codemirror_mode": {
    "name": "ipython",
    "version": 3
   },
   "file_extension": ".py",
   "mimetype": "text/x-python",
   "name": "python",
   "nbconvert_exporter": "python",
   "pygments_lexer": "ipython3",
   "version": "3.12.4"
  }
 },
 "nbformat": 4,
 "nbformat_minor": 2
}
