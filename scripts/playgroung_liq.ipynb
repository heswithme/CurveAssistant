{
 "cells": [
  {
   "cell_type": "code",
   "execution_count": 8,
   "metadata": {},
   "outputs": [
    {
     "name": "stdout",
     "output_type": "stream",
     "text": [
      "Forked the chain on block 20420069\n"
     ]
    }
   ],
   "source": [
    "import boa\n",
    "import sys, os\n",
    "from eth_utils import to_checksum_address\n",
    "parent_dir = os.path.abspath('..')\n",
    "sys.path.insert(0, parent_dir)\n",
    "from tests.utils.util_tokens import mint_for_testing, get_token_balance\n",
    "from tests.utils.util_contracts import load_contract\n",
    "\n",
    "\n",
    "from dotenv import load_dotenv\n",
    "dotenv_path = os.path.expanduser('~/.web3env') # Path to .env file containing rpcs and keys\n",
    "load_dotenv(dotenv_path)\n",
    "\n",
    "rpc_url = os.getenv(\"ETH_RPC_URL\")\n",
    "assert rpc_url is not None, \"Provider url is not set\"\n",
    "boa.env.fork(url=rpc_url, block_identifier=20420069)\n",
    "boa.env.enable_fast_mode()\n",
    "\n",
    "addresses_dict = {\n",
    "    \"USDT\":     '0xdAC17F958D2ee523a2206206994597C13D831ec7',\n",
    "    \"USDC\":     '0xa0b86991c6218b36c1d19d4a2e9eb0ce3606eb48',\n",
    "    # \"DAI\":      '0x6b175474e89094c44da98b954eedeac495271d0f', #curve doesn't like DAI it seems\n",
    "    \"WBTC\":     '0x2260fac5e5542a773aa44fbcfedf7c193bc2c599',\n",
    "    \"WETH\":     '0xc02aaa39b223fe8d0a0e5c4f27ead9083c756cc2',\n",
    "    \"CRV\":      '0xD533a949740bb3306d119CC777fa900bA034cd52',\n",
    "    \"crvUSD\":   '0xf939E0A03FB07F59A73314E73794Be0E57ac1b4E'\n",
    "}\n",
    "# Convert addresses to checksum format\n",
    "for key in addresses_dict.keys():\n",
    "    addresses_dict[key] = to_checksum_address(addresses_dict[key])\n",
    "# Fetch contract data from Etherscan and create the contracts dictionary\n",
    "# contracts = {key: boa.from_etherscan(address, uri=\"https://api.etherscan.io/api\", name=key, api_key=os.environ.get(\"ETHERSCAN_API_KEY_CS\")) for key, address in addresses_dict.items()}\n",
    "token_contracts = {key: load_contract(address, name=key, path_prefix='../') for key, address in addresses_dict.items()}\n",
    "\n",
    "print(f'Forked the chain on block {boa.env.evm.vm.state.block_number}')\n",
    "boa.env.set_random_seed(420)\n",
    "deployer = boa.env.generate_address()\n",
    "with boa.env.prank(deployer):\n",
    "    curve_assistant_contract = boa.load_partial(\"../contracts/CurveAssistant.vy\").deploy()\n",
    "\n"
   ]
  },
  {
   "cell_type": "code",
   "execution_count": 9,
   "metadata": {},
   "outputs": [
    {
     "name": "stdout",
     "output_type": "stream",
     "text": [
      "Tether USD balance: 1.0\n",
      "Tether USD allowance: 1.0\n",
      "USD Coin balance: 1.0\n",
      "USD Coin allowance: 1.0\n",
      "Wrapped BTC balance: 1.0\n",
      "Wrapped BTC allowance: 1.0\n",
      "Wrapped Ether balance: 1.0\n",
      "Wrapped Ether allowance: 1.0\n",
      "Curve DAO Token balance: 1.0\n",
      "Curve DAO Token allowance: 1.0\n",
      "Curve.Fi USD Stablecoin balance: 1.0\n",
      "Curve.Fi USD Stablecoin allowance: 1.0\n"
     ]
    }
   ],
   "source": [
    "pools_list = ['0x7f86bf177dd4f3494b841a37e810a34dd56c829b', # tricrypto-ng USDC/WBTC/WETH\n",
    "                '0xd51a44d3fae010294c616388b506acda1bfaae46', # Curve.fi: USDT/WBTC/WETH Pool (old)\n",
    "                '0xf5f5b97624542d72a9e06f04804bf81baa15e2b4', # tricrypto-ng USDT/WBTC/WETH\n",
    "                '0x4ebdf703948ddcea3b11f675b4d1fba9d2414a14', # tricrv (crvUSD/WETH/CRV)\n",
    "                ] \n",
    "coins_list = []\n",
    "coins_amounts = []\n",
    "\n",
    "for contract in token_contracts.values():\n",
    "    with boa.env.prank(deployer):\n",
    "        coins_list.append(contract.address)\n",
    "        mint_for_testing(contract, deployer, 10 ** contract.decimals(), path_prefix='../')\n",
    "        coins_amounts.append(contract.balanceOf(deployer) // 2)\n",
    "        print(f'{contract.name()} balance: {contract.balanceOf(deployer)/10 ** contract.decimals()}')\n",
    "        tx = contract.approve(curve_assistant_contract.address, 0, sender = deployer)\n",
    "        tx = contract.approve(curve_assistant_contract.address, contract.balanceOf(deployer), sender = deployer)\n",
    "        print(f'{contract.name()} allowance: {contract.allowance(deployer, curve_assistant_contract.address)/10 ** contract.decimals()}')\n"
   ]
  },
  {
   "cell_type": "code",
   "execution_count": 10,
   "metadata": {},
   "outputs": [
    {
     "name": "stderr",
     "output_type": "stream",
     "text": [
      "6263501305009555626\n",
      "6046479956228384109\n",
      "6242405581050548608\n",
      "12821211143329243331\n"
     ]
    },
    {
     "name": "stdout",
     "output_type": "stream",
     "text": [
      "returned value: [6263501305009555626, 6046479956228384109, 6242405581050548608, 12821211143329243331]\n"
     ]
    }
   ],
   "source": [
    "with boa.env.prank(deployer):\n",
    "    res_load = curve_assistant_contract.load_coins_to_pools(coins_list, coins_amounts, pools_list)\n",
    "    print(f'returned value: {res_load}')\n"
   ]
  },
  {
   "cell_type": "code",
   "execution_count": 11,
   "metadata": {},
   "outputs": [
    {
     "name": "stdout",
     "output_type": "stream",
     "text": [
      "Balance of 0x7f86bf177dd4f3494b841a37e810a34dd56c829b LP token (0x7F86Bf177Dd4F3494b841a37e810A34dD56c829B): 6263501305009555626\n",
      "Balance of 0xd51a44d3fae010294c616388b506acda1bfaae46 LP token (0xc4AD29ba4B3c580e6D59105FFf484999997675Ff): 6046479956228384109\n",
      "Balance of 0xf5f5b97624542d72a9e06f04804bf81baa15e2b4 LP token (0xf5f5B97624542D72A9E06f04804Bf81baA15e2B4): 6242405581050548608\n",
      "Balance of 0x4ebdf703948ddcea3b11f675b4d1fba9d2414a14 LP token (0x4eBdF703948ddCEA3B11f675B4D1Fba9d2414A14): 12821211143329243331\n",
      "returned value: [True, True, True, True]\n",
      "Balance of Wrapped BTC (0x2260FAC5E5542a773Aa44fBCfeDf7C193bc2C599): 0.67361616\n",
      "Balance of Wrapped Ether (0xC02aaA39b223FE8D0A0e5C4F27eAD9083C756Cc2): 3.9921185611460666\n",
      "Balance of USD Coin (0xA0b86991c6218b36c1d19D4a2e9Eb0cE3606eB48): 3788.501071\n",
      "Balance of Curve DAO Token (0xD533a949740bb3306d119CC777fa900bA034cd52): 500.3604080654221\n",
      "Balance of Tether USD (0xdAC17F958D2ee523a2206206994597C13D831ec7): 7572.659759\n",
      "Balance of Curve.Fi USD Stablecoin (0xf939E0A03FB07F59A73314E73794Be0E57ac1b4E): 139.79418751753042\n"
     ]
    }
   ],
   "source": [
    "### unload_liq  \n",
    "pool_coins = []\n",
    "for pool in pools_list:\n",
    "    pool_contract = load_contract(pool, path_prefix='../')\n",
    "    pool_coins.append([pool_contract.coins(i) for i in range(3)])\n",
    "    lp_address = curve_assistant_contract.get_lp_token_for_pool(pool)\n",
    "    lp_token_contract = load_contract(lp_address, path_prefix='../')\n",
    "    print(f'Balance of {pool} LP token ({lp_token_contract.address}):', lp_token_contract.balanceOf(deployer))\n",
    "    with boa.env.prank(deployer):\n",
    "        lp_token_contract.approve(curve_assistant_contract.address, 0, sender = deployer)\n",
    "        lp_token_contract.approve(curve_assistant_contract.address, lp_token_contract.balanceOf(deployer), sender = deployer)\n",
    "res_unload = curve_assistant_contract.extract_liquidity(pools_list, sender = deployer)\n",
    "print(f'returned value: {res_unload}')\n",
    "# flatten and exclude duplicates from pool_coins\n",
    "coins_list = list(set([item for sublist in pool_coins for item in sublist]))\n",
    "for coin in coins_list:\n",
    "    coin_contract = load_contract(coin, path_prefix='../')\n",
    "    print(f'Balance of {coin_contract.name()} ({coin_contract.address}):', coin_contract.balanceOf(deployer)/10**coin_contract.decimals())\n"
   ]
  },
  {
   "cell_type": "code",
   "execution_count": 12,
   "metadata": {},
   "outputs": [
    {
     "data": {
      "text/plain": [
       "0"
      ]
     },
     "execution_count": 12,
     "metadata": {},
     "output_type": "execute_result"
    }
   ],
   "source": [
    "token_address = to_checksum_address('0x7f86bf177dd4f3494b841a37e810a34dd56c829b')\n",
    "user_address = to_checksum_address('0x9970BE065e6751AC78Cd07C8E2b54F5D3B88c945')\n",
    "source = \\\n",
    "f\"\"\"\n",
    "from ethereum.ercs import IERC20\n",
    "\n",
    "@external\n",
    "@view\n",
    "def get_balance(erc20_token_address: address, user_address: address) -> uint256:\n",
    "    return staticcall IERC20(erc20_token_address).balanceOf(user_address)\n",
    "\"\"\"\n",
    "# print(source)\n",
    "contract = boa.loads(source)\n",
    "contract.get_balance(token_address, user_address)\n"
   ]
  },
  {
   "cell_type": "code",
   "execution_count": 13,
   "metadata": {},
   "outputs": [
    {
     "name": "stdout",
     "output_type": "stream",
     "text": [
      "True\n"
     ]
    }
   ],
   "source": [
    "from tests.utils.util_tokens import get_token_balance\n",
    "with boa.env.prank(deployer):\n",
    "    print(get_token_balance('0x7f86bf177dd4f3494b841a37e810a34dd56c829b') == get_token_balance('0x7f86bf177dd4f3494b841a37e810a34dd56c829b', deployer))"
   ]
  },
  {
   "cell_type": "code",
   "execution_count": 14,
   "metadata": {},
   "outputs": [
    {
     "name": "stderr",
     "output_type": "stream",
     "text": [
      "True\n",
      "[0, 1, 2, 3, 4, 5, 6, 7, 8, 9]\n"
     ]
    }
   ],
   "source": [
    "source = \\\n",
    "f\"\"\"\n",
    "N_MAX: constant(uint256) = 10\n",
    "\n",
    "@external\n",
    "@view\n",
    "def test():\n",
    "    nest: DynArray[uint256, N_MAX] = []\n",
    "    for i:uint256 in range(10):\n",
    "        nest.append(i)\n",
    "    print(5 in nest)\n",
    "    print(nest)\n",
    "\"\"\"\n",
    "# print(source)\n",
    "contract = boa.loads(source)\n",
    "contract.test()\n"
   ]
  },
  {
   "cell_type": "code",
   "execution_count": null,
   "metadata": {},
   "outputs": [],
   "source": []
  }
 ],
 "metadata": {
  "kernelspec": {
   "display_name": "work",
   "language": "python",
   "name": "python3"
  },
  "language_info": {
   "codemirror_mode": {
    "name": "ipython",
    "version": 3
   },
   "file_extension": ".py",
   "mimetype": "text/x-python",
   "name": "python",
   "nbconvert_exporter": "python",
   "pygments_lexer": "ipython3",
   "version": "3.12.4"
  }
 },
 "nbformat": 4,
 "nbformat_minor": 2
}
